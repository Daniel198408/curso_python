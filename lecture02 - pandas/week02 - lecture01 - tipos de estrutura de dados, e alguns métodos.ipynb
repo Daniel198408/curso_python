{
 "cells": [
  {
   "cell_type": "markdown",
   "metadata": {},
   "source": [
    "### Existem diversos objetos python (classes) para manipularem diferentes tipos de dados\n",
    "\n",
    "### Já aprendemos listas e suas operações, vamos rever, aqui"
   ]
  },
  {
   "cell_type": "code",
   "execution_count": 1,
   "metadata": {},
   "outputs": [],
   "source": [
    "import os, sys\n",
    "import pandas as pd # pandas e seu alias pd\n",
    "import numpy as np  # numpy  e seu alias np\n",
    "\n",
    "import matplotlib.pyplot as plt # matplotlib e seu alias plt\n",
    "%matplotlib inline"
   ]
  },
  {
   "cell_type": "markdown",
   "metadata": {},
   "source": [
    "### Lista e arrays apesar de serem muito similares, se comportam de modo diferente\n",
    "\n",
    "  - lista pode contem objetos diferentes\n",
    "  - numpy arrays somente dados de mesmo tipo"
   ]
  },
  {
   "cell_type": "code",
   "execution_count": 2,
   "metadata": {},
   "outputs": [
    {
     "data": {
      "text/plain": [
       "8"
      ]
     },
     "execution_count": 2,
     "metadata": {},
     "output_type": "execute_result"
    }
   ],
   "source": [
    "lista = ['a', 'casa', 1, 3, 8, 2.345, True, False]\n",
    "len(lista)"
   ]
  },
  {
   "cell_type": "markdown",
   "metadata": {},
   "source": [
    "### se você trasnformar uma lista heterogênea qto a tipo de dados o np.array faz uma coerção para \\<string>"
   ]
  },
  {
   "cell_type": "code",
   "execution_count": 3,
   "metadata": {},
   "outputs": [
    {
     "data": {
      "text/plain": [
       "array(['a', 'casa', '1', '3', '8', '2.345', 'True', 'False'], dtype='<U5')"
      ]
     },
     "execution_count": 3,
     "metadata": {},
     "output_type": "execute_result"
    }
   ],
   "source": [
    "np.array(lista)"
   ]
  },
  {
   "cell_type": "markdown",
   "metadata": {},
   "source": [
    "### Adição e multiplicação de listas e np.arrays são diferentes"
   ]
  },
  {
   "cell_type": "code",
   "execution_count": 4,
   "metadata": {},
   "outputs": [
    {
     "data": {
      "text/plain": [
       "(list, [1, 2, 3, 4, 5])"
      ]
     },
     "execution_count": 4,
     "metadata": {},
     "output_type": "execute_result"
    }
   ],
   "source": [
    "l1 = [1, 2, 3, 4, 5]\n",
    "type(l1), l1"
   ]
  },
  {
   "cell_type": "code",
   "execution_count": 5,
   "metadata": {},
   "outputs": [
    {
     "data": {
      "text/plain": [
       "([1, 2, 3, 4, 5, 4, 5, 6, 7, 8], 10)"
      ]
     },
     "execution_count": 5,
     "metadata": {},
     "output_type": "execute_result"
    }
   ],
   "source": [
    "l2 = [4, 5, 6, 7, 8]\n",
    "l1 + l2, len(l1 + l2)"
   ]
  },
  {
   "cell_type": "code",
   "execution_count": 6,
   "metadata": {},
   "outputs": [
    {
     "data": {
      "text/plain": [
       "(array([ 5,  7,  9, 11, 13]), 5)"
      ]
     },
     "execution_count": 6,
     "metadata": {},
     "output_type": "execute_result"
    }
   ],
   "source": [
    "arr1 = np.array(l1)\n",
    "arr2 = np.array(l2)\n",
    "\n",
    "arr1 + arr2, len(arr1 + arr2)"
   ]
  },
  {
   "cell_type": "markdown",
   "metadata": {},
   "source": [
    "### Multiplicação"
   ]
  },
  {
   "cell_type": "code",
   "execution_count": 7,
   "metadata": {},
   "outputs": [
    {
     "data": {
      "text/plain": [
       "[1, 2, 3, 4, 5, 1, 2, 3, 4, 5, 1, 2, 3, 4, 5]"
      ]
     },
     "execution_count": 7,
     "metadata": {},
     "output_type": "execute_result"
    }
   ],
   "source": [
    "l1 * 3"
   ]
  },
  {
   "cell_type": "code",
   "execution_count": 8,
   "metadata": {},
   "outputs": [
    {
     "data": {
      "text/plain": [
       "array([ 3,  6,  9, 12, 15])"
      ]
     },
     "execution_count": 8,
     "metadata": {},
     "output_type": "execute_result"
    }
   ],
   "source": [
    "arr1 * 3"
   ]
  },
  {
   "cell_type": "markdown",
   "metadata": {},
   "source": [
    "### Como ordenar listas ou arrays?"
   ]
  },
  {
   "cell_type": "code",
   "execution_count": 9,
   "metadata": {},
   "outputs": [],
   "source": [
    "# lorg = lista organizada, inicialmente desorganizada\n",
    "lorg = [1, 3, 0, 9, -8, 40, 32, 7, 122, 98]\n",
    "#-- nada aconteceu?\n",
    "lorg.sort()"
   ]
  },
  {
   "cell_type": "code",
   "execution_count": 10,
   "metadata": {},
   "outputs": [
    {
     "data": {
      "text/plain": [
       "[-8, 0, 1, 3, 7, 9, 32, 40, 98, 122]"
      ]
     },
     "execution_count": 10,
     "metadata": {},
     "output_type": "execute_result"
    }
   ],
   "source": [
    "# aha .... o python organiza a lista sem retornar um objeto\n",
    "lorg"
   ]
  },
  {
   "cell_type": "markdown",
   "metadata": {},
   "source": [
    "### Escreva 'lorg.'' e dê um \\<tab>\n",
    "\n",
    "lorg.\\<tab>"
   ]
  },
  {
   "cell_type": "code",
   "execution_count": 11,
   "metadata": {},
   "outputs": [
    {
     "data": {
      "text/plain": [
       "list"
      ]
     },
     "execution_count": 11,
     "metadata": {},
     "output_type": "execute_result"
    }
   ],
   "source": [
    "type(lorg)"
   ]
  },
  {
   "cell_type": "markdown",
   "metadata": {},
   "source": [
    "### lorg é da classe list e para acessar seus métodos escreve-se \\<objeto>.metodo()"
   ]
  },
  {
   "cell_type": "code",
   "execution_count": 12,
   "metadata": {},
   "outputs": [
    {
     "data": {
      "text/plain": [
       "[-8, 0, 1, 7, 9, 32, 40, 98, 122]"
      ]
     },
     "execution_count": 12,
     "metadata": {},
     "output_type": "execute_result"
    }
   ],
   "source": [
    "lorg.remove(3)\n",
    "lorg"
   ]
  },
  {
   "cell_type": "code",
   "execution_count": 13,
   "metadata": {},
   "outputs": [],
   "source": [
    "# deu erro??? porque?\n",
    "# lorg.remove(3)"
   ]
  },
  {
   "cell_type": "markdown",
   "metadata": {},
   "source": [
    "### Ordenando um np.array"
   ]
  },
  {
   "cell_type": "code",
   "execution_count": 14,
   "metadata": {},
   "outputs": [
    {
     "data": {
      "text/plain": [
       "(numpy.ndarray, array([  1,   3,   0,   9,  -8,  40,  32,   7, 122,  98]))"
      ]
     },
     "execution_count": 14,
     "metadata": {},
     "output_type": "execute_result"
    }
   ],
   "source": [
    "arr = np.array([1, 3, 0, 9, -8, 40, 32, 7, 122, 98])\n",
    "type(arr), arr"
   ]
  },
  {
   "cell_type": "code",
   "execution_count": 15,
   "metadata": {},
   "outputs": [],
   "source": [
    "arr.sort()"
   ]
  },
  {
   "cell_type": "code",
   "execution_count": 16,
   "metadata": {},
   "outputs": [
    {
     "data": {
      "text/plain": [
       "array([ -8,   0,   1,   3,   7,   9,  32,  40,  98, 122])"
      ]
     },
     "execution_count": 16,
     "metadata": {},
     "output_type": "execute_result"
    }
   ],
   "source": [
    "arr"
   ]
  },
  {
   "cell_type": "markdown",
   "metadata": {},
   "source": [
    "### Posso ordenar uma lista com um operador Numpy e se trasnformará em objeto numpy"
   ]
  },
  {
   "cell_type": "code",
   "execution_count": 17,
   "metadata": {},
   "outputs": [
    {
     "name": "stdout",
     "output_type": "stream",
     "text": [
      "<class 'list'>\n"
     ]
    },
    {
     "data": {
      "text/plain": [
       "(numpy.ndarray, array([ -8,   0,   1,   3,   7,   9,  32,  40,  98, 122]))"
      ]
     },
     "execution_count": 17,
     "metadata": {},
     "output_type": "execute_result"
    }
   ],
   "source": [
    "lorg = [1, 3, 0, 9, -8, 40, 32, 7, 122, 98]\n",
    "print(type(lorg))\n",
    "\n",
    "#-- aqui uso o operador numpy.sort()\n",
    "lorg = np.sort(lorg)\n",
    "type(lorg), lorg"
   ]
  },
  {
   "cell_type": "markdown",
   "metadata": {},
   "source": [
    "### Porque usar numpy?"
   ]
  },
  {
   "cell_type": "code",
   "execution_count": 18,
   "metadata": {},
   "outputs": [
    {
     "data": {
      "text/plain": [
       "(10000000, numpy.ndarray)"
      ]
     },
     "execution_count": 18,
     "metadata": {},
     "output_type": "execute_result"
    }
   ],
   "source": [
    "a = np.arange(0, 10e6, 1)\n",
    "len(a), type(a)"
   ]
  },
  {
   "cell_type": "code",
   "execution_count": 19,
   "metadata": {},
   "outputs": [
    {
     "data": {
      "text/plain": [
       "(10000000, list)"
      ]
     },
     "execution_count": 19,
     "metadata": {},
     "output_type": "execute_result"
    }
   ],
   "source": [
    "# coerção de a para lista\n",
    "b = list(a)\n",
    "len(b), type(b)"
   ]
  },
  {
   "cell_type": "markdown",
   "metadata": {},
   "source": [
    "### Usando datetime, time .... aqui só time"
   ]
  },
  {
   "cell_type": "code",
   "execution_count": 20,
   "metadata": {},
   "outputs": [
    {
     "name": "stdout",
     "output_type": "stream",
     "text": [
      "Seconds since epoch = 1600457885.456594\n"
     ]
    }
   ],
   "source": [
    "import time\n",
    "\n",
    "seconds = time.time()\n",
    "print(\"Seconds since epoch =\", seconds)"
   ]
  },
  {
   "cell_type": "code",
   "execution_count": 21,
   "metadata": {},
   "outputs": [
    {
     "name": "stdout",
     "output_type": "stream",
     "text": [
      "Seconds for the above loop 0.36097 ms\n"
     ]
    }
   ],
   "source": [
    "tini = time.time()\n",
    "for i in range(1000):\n",
    "    pass\n",
    "\n",
    "tend = time.time()\n",
    "\n",
    "print(\"Seconds for the above loop %.5f ms\"%( (tend-tini)*1000) )"
   ]
  },
  {
   "cell_type": "code",
   "execution_count": 22,
   "metadata": {},
   "outputs": [
    {
     "name": "stdout",
     "output_type": "stream",
     "text": [
      "Seconds for the above loop 0.40960 ms\n"
     ]
    }
   ],
   "source": [
    "tini = time.time()\n",
    "a = 3\n",
    "\n",
    "for i in range(1000):\n",
    "    a = a + 3\n",
    "\n",
    "tend = time.time()\n",
    "\n",
    "print(\"Seconds for the above loop %.5f ms\"%( (tend-tini)*1000) )"
   ]
  },
  {
   "cell_type": "code",
   "execution_count": 23,
   "metadata": {},
   "outputs": [
    {
     "name": "stdout",
     "output_type": "stream",
     "text": [
      "Seconds for the above loop 0.20266 ms\n"
     ]
    }
   ],
   "source": [
    "tini = time.time()\n",
    "a = 3\n",
    "\n",
    "for i in range(1000):\n",
    "    a += 3\n",
    "\n",
    "tend = time.time()\n",
    "\n",
    "print(\"Seconds for the above loop %.5f ms\"%( (tend-tini)*1000) )"
   ]
  },
  {
   "cell_type": "markdown",
   "metadata": {},
   "source": [
    "### Ganhando em complexidade demora mais tempo ..."
   ]
  },
  {
   "cell_type": "code",
   "execution_count": 24,
   "metadata": {},
   "outputs": [
    {
     "name": "stdout",
     "output_type": "stream",
     "text": [
      "Seconds for the above loop 1.37329 ms\n"
     ]
    }
   ],
   "source": [
    "import math\n",
    "\n",
    "tini = time.time()\n",
    "a = 3\n",
    "\n",
    "for i in range(1000):\n",
    "    a = (a*5 + math.log(a)) /2\n",
    "\n",
    "tend = time.time()\n",
    "\n",
    "print(\"Seconds for the above loop %.5f ms\"%( (tend-tini)*1000) )"
   ]
  },
  {
   "cell_type": "markdown",
   "metadata": {},
   "source": [
    "### Vamos embaralhar os dados"
   ]
  },
  {
   "cell_type": "code",
   "execution_count": 25,
   "metadata": {},
   "outputs": [
    {
     "data": {
      "text/plain": [
       "array([2, 1, 6, 0, 5, 7, 4, 3])"
      ]
     },
     "execution_count": 25,
     "metadata": {},
     "output_type": "execute_result"
    }
   ],
   "source": [
    "a = np.arange(0, 8, 1)\n",
    "np.random.shuffle(a)\n",
    "a"
   ]
  },
  {
   "cell_type": "markdown",
   "metadata": {},
   "source": [
    "### Vamos medir o tempo do sort de uma lista e do numpy\n",
    "\n",
    "100 milhoẽs de inteiros !!\n",
    "\n",
    "não é muito trivial criar e embaralhar 100 milhões de inteiros, pode tomar alguns segundos\n",
    "\n",
    "reduzindo para 1 milhão "
   ]
  },
  {
   "cell_type": "code",
   "execution_count": 26,
   "metadata": {},
   "outputs": [
    {
     "data": {
      "text/plain": [
       "(1000000, numpy.ndarray)"
      ]
     },
     "execution_count": 26,
     "metadata": {},
     "output_type": "execute_result"
    }
   ],
   "source": [
    "a = np.arange(0, 1e6, 1)\n",
    "len(a), type(a)"
   ]
  },
  {
   "cell_type": "code",
   "execution_count": 27,
   "metadata": {},
   "outputs": [
    {
     "name": "stdout",
     "output_type": "stream",
     "text": [
      "Loop 0) segundos para organizar  1000000 números inteiros em <class 'numpy.ndarray'> = 88.10091 ms\n",
      "Loop 1) segundos para organizar  1000000 números inteiros em <class 'numpy.ndarray'> = 82.50809 ms\n",
      "Loop 2) segundos para organizar  1000000 números inteiros em <class 'numpy.ndarray'> = 81.20823 ms\n",
      "Loop 3) segundos para organizar  1000000 números inteiros em <class 'numpy.ndarray'> = 81.44188 ms\n",
      "Loop 4) segundos para organizar  1000000 números inteiros em <class 'numpy.ndarray'> = 82.78441 ms\n",
      "Loop 5) segundos para organizar  1000000 números inteiros em <class 'numpy.ndarray'> = 81.18868 ms\n"
     ]
    },
    {
     "data": {
      "text/plain": [
       "(82.87203311920166, 2.4196609620162057)"
      ]
     },
     "execution_count": 27,
     "metadata": {},
     "output_type": "execute_result"
    }
   ],
   "source": [
    "tempos = []\n",
    "\n",
    "for i in range(6):\n",
    "    tini = time.time()\n",
    "    np.random.shuffle(a)\n",
    "    a.sort()\n",
    "    tend = time.time()\n",
    "\n",
    "    delta = (tend-tini)*1000\n",
    "    print(\"Loop %d) segundos para organizar  %d números inteiros em %s = %.5f ms\"%(i, len(a), type(a), delta) )\n",
    "    \n",
    "    tempos.append(delta)\n",
    "\n",
    "np.mean(tempos), np.std(tempos)"
   ]
  },
  {
   "cell_type": "markdown",
   "metadata": {},
   "source": [
    "### Agora uma lista, vamos fazer uma coerção de array para lista"
   ]
  },
  {
   "cell_type": "code",
   "execution_count": 28,
   "metadata": {},
   "outputs": [
    {
     "name": "stdout",
     "output_type": "stream",
     "text": [
      "Loop 0) segundos para organizar  1000000 números inteiros em <class 'list'> = 629.64106 ms\n",
      "Loop 1) segundos para organizar  1000000 números inteiros em <class 'list'> = 805.16934 ms\n",
      "Loop 2) segundos para organizar  1000000 números inteiros em <class 'list'> = 843.69087 ms\n",
      "Loop 3) segundos para organizar  1000000 números inteiros em <class 'list'> = 820.24121 ms\n",
      "Loop 4) segundos para organizar  1000000 números inteiros em <class 'list'> = 836.51042 ms\n",
      "Loop 5) segundos para organizar  1000000 números inteiros em <class 'list'> = 826.22433 ms\n"
     ]
    },
    {
     "data": {
      "text/plain": [
       "(793.5795386632284, 74.32012183019081)"
      ]
     },
     "execution_count": 28,
     "metadata": {},
     "output_type": "execute_result"
    }
   ],
   "source": [
    "tempos = []\n",
    "\n",
    "for i in range(6):\n",
    "    tini = time.time()\n",
    "    np.random.shuffle(a)\n",
    "    alist = list(a)\n",
    "    alist.sort()\n",
    "    tend = time.time()\n",
    "\n",
    "    delta = (tend-tini)*1000\n",
    "    print(\"Loop %d) segundos para organizar  %d números inteiros em %s = %.5f ms\"%(i, len(alist), type(alist), delta) )\n",
    "    \n",
    "    tempos.append(delta)\n",
    "\n",
    "np.mean(tempos), np.std(tempos)"
   ]
  },
  {
   "cell_type": "markdown",
   "metadata": {},
   "source": [
    "### O numpy está otimizado em linguagem C e é muito mais rápidos\n",
    "### Sempre trabalhe com o numpy, vermos nas próximas aulas ..."
   ]
  },
  {
   "cell_type": "markdown",
   "metadata": {},
   "source": [
    "## Outros tipos de estrutura de dados\n",
    "\n",
    "### Tuples\n",
    "\n",
    "são listas fixas, repare que o próprio eco do Notebook é uma tuple"
   ]
  },
  {
   "cell_type": "code",
   "execution_count": 29,
   "metadata": {},
   "outputs": [
    {
     "data": {
      "text/plain": [
       "(tuple, 3, (2, 3, 5))"
      ]
     },
     "execution_count": 29,
     "metadata": {},
     "output_type": "execute_result"
    }
   ],
   "source": [
    "tup = (2, 3, 5)\n",
    "type(tup), len(tup), tup"
   ]
  },
  {
   "cell_type": "markdown",
   "metadata": {},
   "source": [
    "### Sets\n",
    "\n",
    "são listas com dados que nunca sem repetem"
   ]
  },
  {
   "cell_type": "code",
   "execution_count": 30,
   "metadata": {},
   "outputs": [
    {
     "data": {
      "text/plain": [
       "([1, 2, 3, 4, 5], [4, 5, 6, 7, 8], [1, 2, 3, 4, 5, 4, 5, 6, 7, 8])"
      ]
     },
     "execution_count": 30,
     "metadata": {},
     "output_type": "execute_result"
    }
   ],
   "source": [
    "l1, l2, l1+l2"
   ]
  },
  {
   "cell_type": "code",
   "execution_count": 31,
   "metadata": {},
   "outputs": [
    {
     "data": {
      "text/plain": [
       "(set, {1, 2, 3, 4, 5, 6, 7, 8})"
      ]
     },
     "execution_count": 31,
     "metadata": {},
     "output_type": "execute_result"
    }
   ],
   "source": [
    "lset = set(l1 + l2)\n",
    "type(lset), lset"
   ]
  },
  {
   "cell_type": "markdown",
   "metadata": {},
   "source": [
    "### Diferença, União e Intersecção\n",
    "\n",
    "Operações utilizadas para se construir um diagrama de Venn"
   ]
  },
  {
   "cell_type": "code",
   "execution_count": 32,
   "metadata": {},
   "outputs": [],
   "source": [
    "a = set([\"a\", \"b\", \"c\", \"a\"])\n",
    "b = set([\"a\", \"b\", \"c\", \"d\", \"e\"])"
   ]
  },
  {
   "cell_type": "code",
   "execution_count": 33,
   "metadata": {},
   "outputs": [
    {
     "data": {
      "text/plain": [
       "set()"
      ]
     },
     "execution_count": 33,
     "metadata": {},
     "output_type": "execute_result"
    }
   ],
   "source": [
    "a.difference(b)"
   ]
  },
  {
   "cell_type": "code",
   "execution_count": 34,
   "metadata": {},
   "outputs": [
    {
     "data": {
      "text/plain": [
       "{'d', 'e'}"
      ]
     },
     "execution_count": 34,
     "metadata": {},
     "output_type": "execute_result"
    }
   ],
   "source": [
    "b.difference(a)"
   ]
  },
  {
   "cell_type": "code",
   "execution_count": 35,
   "metadata": {},
   "outputs": [
    {
     "data": {
      "text/plain": [
       "{'a', 'b', 'c', 'd', 'e'}"
      ]
     },
     "execution_count": 35,
     "metadata": {},
     "output_type": "execute_result"
    }
   ],
   "source": [
    "b.union(a)"
   ]
  },
  {
   "cell_type": "code",
   "execution_count": 36,
   "metadata": {},
   "outputs": [
    {
     "data": {
      "text/plain": [
       "True"
      ]
     },
     "execution_count": 36,
     "metadata": {},
     "output_type": "execute_result"
    }
   ],
   "source": [
    "b.union(a)  == b"
   ]
  },
  {
   "cell_type": "code",
   "execution_count": 37,
   "metadata": {},
   "outputs": [
    {
     "data": {
      "text/plain": [
       "False"
      ]
     },
     "execution_count": 37,
     "metadata": {},
     "output_type": "execute_result"
    }
   ],
   "source": [
    "b.union(a) == a"
   ]
  },
  {
   "cell_type": "code",
   "execution_count": 38,
   "metadata": {},
   "outputs": [
    {
     "data": {
      "text/plain": [
       "{'a', 'b', 'c'}"
      ]
     },
     "execution_count": 38,
     "metadata": {},
     "output_type": "execute_result"
    }
   ],
   "source": [
    "b.intersection(a)"
   ]
  },
  {
   "cell_type": "code",
   "execution_count": 39,
   "metadata": {},
   "outputs": [
    {
     "data": {
      "text/plain": [
       "{'a', 'b', 'c'}"
      ]
     },
     "execution_count": 39,
     "metadata": {},
     "output_type": "execute_result"
    }
   ],
   "source": [
    "a.intersection(b)"
   ]
  },
  {
   "cell_type": "code",
   "execution_count": null,
   "metadata": {},
   "outputs": [],
   "source": []
  },
  {
   "cell_type": "markdown",
   "metadata": {},
   "source": [
    "### Dicionário (dictionary)\n",
    "### dict() == {}\n",
    "\n",
    "Este é quem sabe o objeto mais usado no Python  \n",
    "neste curso não entraremos a fundo do porquê  \n",
    "mas, veremos aqui o como ele é útil  \n",
    "ele é importante para gerarmos dados e transformarmos em tabelas Pandas"
   ]
  },
  {
   "cell_type": "code",
   "execution_count": 40,
   "metadata": {},
   "outputs": [
    {
     "data": {
      "text/plain": [
       "dict"
      ]
     },
     "execution_count": 40,
     "metadata": {},
     "output_type": "execute_result"
    }
   ],
   "source": [
    "dic = {}\n",
    "dic['carro'] = 1000\n",
    "dic['bicicleta'] = 20\n",
    "dic['saco de arroz'] = 10\n",
    "dic['caneta'] = 0.01\n",
    "\n",
    "type(dic)"
   ]
  },
  {
   "cell_type": "code",
   "execution_count": 41,
   "metadata": {},
   "outputs": [
    {
     "data": {
      "text/plain": [
       "{'carro': 1000, 'bicicleta': 20, 'saco de arroz': 10, 'caneta': 0.01}"
      ]
     },
     "execution_count": 41,
     "metadata": {},
     "output_type": "execute_result"
    }
   ],
   "source": [
    "dic"
   ]
  },
  {
   "cell_type": "markdown",
   "metadata": {},
   "source": [
    "### o método keys() --> gera uma lista de chaves"
   ]
  },
  {
   "cell_type": "code",
   "execution_count": 42,
   "metadata": {},
   "outputs": [
    {
     "data": {
      "text/plain": [
       "dict_keys(['carro', 'bicicleta', 'saco de arroz', 'caneta'])"
      ]
     },
     "execution_count": 42,
     "metadata": {},
     "output_type": "execute_result"
    }
   ],
   "source": [
    "dic.keys()"
   ]
  },
  {
   "cell_type": "markdown",
   "metadata": {},
   "source": [
    "### o método values() --> gera uma lista de valores"
   ]
  },
  {
   "cell_type": "code",
   "execution_count": 43,
   "metadata": {},
   "outputs": [
    {
     "data": {
      "text/plain": [
       "dict_values([1000, 20, 10, 0.01])"
      ]
     },
     "execution_count": 43,
     "metadata": {},
     "output_type": "execute_result"
    }
   ],
   "source": [
    "dic.values()"
   ]
  },
  {
   "cell_type": "code",
   "execution_count": 44,
   "metadata": {},
   "outputs": [
    {
     "name": "stdout",
     "output_type": "stream",
     "text": [
      "\t carro \t 1000\n",
      "\t bicicleta \t 20\n",
      "\t saco de arroz \t 10\n",
      "\t caneta \t 0.01\n"
     ]
    }
   ],
   "source": [
    "for k in dic.keys():\n",
    "    print('\\t', k, '\\t',dic[k])"
   ]
  },
  {
   "cell_type": "markdown",
   "metadata": {},
   "source": [
    "### Iterador items()"
   ]
  },
  {
   "cell_type": "code",
   "execution_count": 45,
   "metadata": {},
   "outputs": [
    {
     "name": "stdout",
     "output_type": "stream",
     "text": [
      "\t carro \t 1000\n",
      "\t bicicleta \t 20\n",
      "\t saco de arroz \t 10\n",
      "\t caneta \t 0.01\n"
     ]
    }
   ],
   "source": [
    "for k, val in dic.items():\n",
    "    print('\\t',k, '\\t',val)"
   ]
  },
  {
   "cell_type": "markdown",
   "metadata": {},
   "source": [
    "### Ao invés de um valor, uma lista de valores"
   ]
  },
  {
   "cell_type": "code",
   "execution_count": 46,
   "metadata": {},
   "outputs": [
    {
     "data": {
      "text/plain": [
       "4"
      ]
     },
     "execution_count": 46,
     "metadata": {},
     "output_type": "execute_result"
    }
   ],
   "source": [
    "dic = {}\n",
    "dic['carro'] = [1000, 'kg']\n",
    "dic['bicicleta'] = [20, 'kg']\n",
    "dic['saco de arroz'] = [10, 'kg']\n",
    "dic['caneta'] = [10, 'g']\n",
    "\n",
    "len(dic.keys())"
   ]
  },
  {
   "cell_type": "code",
   "execution_count": 47,
   "metadata": {},
   "outputs": [
    {
     "name": "stdout",
     "output_type": "stream",
     "text": [
      "\t carro \t [1000, 'kg']\n",
      "\t bicicleta \t [20, 'kg']\n",
      "\t saco de arroz \t [10, 'kg']\n",
      "\t caneta \t [10, 'g']\n"
     ]
    }
   ],
   "source": [
    "for k, val in dic.items():\n",
    "    print('\\t',k, '\\t',val)"
   ]
  },
  {
   "cell_type": "code",
   "execution_count": 48,
   "metadata": {},
   "outputs": [
    {
     "name": "stdout",
     "output_type": "stream",
     "text": [
      "\t carro \t peso =  1000 kg\n",
      "\t bicicleta \t peso =  20 kg\n",
      "\t saco de arroz \t peso =  10 kg\n",
      "\t caneta \t peso =  10 g\n"
     ]
    }
   ],
   "source": [
    "for k, val in dic.items():\n",
    "    print('\\t',k, '\\t peso = ',val[0], val[1])"
   ]
  },
  {
   "cell_type": "code",
   "execution_count": 49,
   "metadata": {},
   "outputs": [
    {
     "name": "stdout",
     "output_type": "stream",
     "text": [
      "Objeto carro, tem peso 1000 kg\n",
      "Objeto bicicleta, tem peso 20 kg\n",
      "Objeto saco de arroz, tem peso 10 kg\n",
      "Objeto caneta, tem peso 10 g\n"
     ]
    }
   ],
   "source": [
    "for k, val in dic.items():\n",
    "    print(\"Objeto %s, tem peso %d %s\" %(k, val[0], val[1]) )"
   ]
  }
 ],
 "metadata": {
  "kernelspec": {
   "display_name": "Python 3",
   "language": "python",
   "name": "python3"
  },
  "language_info": {
   "codemirror_mode": {
    "name": "ipython",
    "version": 3
   },
   "file_extension": ".py",
   "mimetype": "text/x-python",
   "name": "python",
   "nbconvert_exporter": "python",
   "pygments_lexer": "ipython3",
   "version": "3.7.7"
  }
 },
 "nbformat": 4,
 "nbformat_minor": 4
}
